{
  "nbformat": 4,
  "nbformat_minor": 0,
  "metadata": {
    "colab": {
      "name": "KNN.ipynb",
      "provenance": [],
      "collapsed_sections": [],
      "mount_file_id": "12JjzbY2PFwGMdWPJx04eylxWUIHk4HFe",
      "authorship_tag": "ABX9TyPNg3ztDmHtOFdR5eEBlaMj",
      "include_colab_link": true
    },
    "kernelspec": {
      "name": "python3",
      "display_name": "Python 3"
    }
  },
  "cells": [
    {
      "cell_type": "markdown",
      "metadata": {
        "id": "view-in-github",
        "colab_type": "text"
      },
      "source": [
        "<a href=\"https://colab.research.google.com/github/Frank0012/BiasMachine/blob/master/KNN.ipynb\" target=\"_parent\"><img src=\"https://colab.research.google.com/assets/colab-badge.svg\" alt=\"Open In Colab\"/></a>"
      ]
    },
    {
      "cell_type": "code",
      "metadata": {
        "id": "901eYKAT1Pqx",
        "colab_type": "code",
        "colab": {}
      },
      "source": [
        "from sklearn import neighbors\n",
        "import numpy as np\n",
        "from matplotlib.colors import ListedColormap\n",
        "import matplotlib.pyplot as plt\n",
        "import pandas as pd\n"
      ],
      "execution_count": 28,
      "outputs": []
    },
    {
      "cell_type": "code",
      "metadata": {
        "id": "akg4Xs8i6bKO",
        "colab_type": "code",
        "colab": {}
      },
      "source": [
        "n_neighbors = 5"
      ],
      "execution_count": 29,
      "outputs": []
    },
    {
      "cell_type": "code",
      "metadata": {
        "id": "Siz4m2fq6vt2",
        "colab_type": "code",
        "colab": {
          "base_uri": "https://localhost:8080/",
          "height": 70
        },
        "outputId": "5724ca09-0282-4e7c-a377-dfad55b137ba"
      },
      "source": [
        "df = pd.read_csv('/content/drive/My Drive/Colab Notebooks/Behavioral_Risk_Factor_Data__Tobacco_Use__2011_to_present_.csv')"
      ],
      "execution_count": 30,
      "outputs": [
        {
          "output_type": "stream",
          "text": [
            "/usr/local/lib/python3.6/dist-packages/IPython/core/interactiveshell.py:2718: DtypeWarning: Columns (0) have mixed types.Specify dtype option on import or set low_memory=False.\n",
            "  interactivity=interactivity, compiler=compiler, result=result)\n"
          ],
          "name": "stderr"
        }
      ]
    },
    {
      "cell_type": "code",
      "metadata": {
        "id": "5owQMTbAhrm_",
        "colab_type": "code",
        "colab": {
          "base_uri": "https://localhost:8080/",
          "height": 927
        },
        "outputId": "bc0ca208-89e3-4d30-9f24-1d1b7394049c"
      },
      "source": [
        "data = df[df['MeasureDesc'] == 'Current Smoking']\n",
        "data"
      ],
      "execution_count": 31,
      "outputs": [
        {
          "output_type": "execute_result",
          "data": {
            "text/html": [
              "<div>\n",
              "<style scoped>\n",
              "    .dataframe tbody tr th:only-of-type {\n",
              "        vertical-align: middle;\n",
              "    }\n",
              "\n",
              "    .dataframe tbody tr th {\n",
              "        vertical-align: top;\n",
              "    }\n",
              "\n",
              "    .dataframe thead th {\n",
              "        text-align: right;\n",
              "    }\n",
              "</style>\n",
              "<table border=\"1\" class=\"dataframe\">\n",
              "  <thead>\n",
              "    <tr style=\"text-align: right;\">\n",
              "      <th></th>\n",
              "      <th>YEAR</th>\n",
              "      <th>LocationAbbr</th>\n",
              "      <th>LocationDesc</th>\n",
              "      <th>TopicType</th>\n",
              "      <th>TopicDesc</th>\n",
              "      <th>MeasureDesc</th>\n",
              "      <th>DataSource</th>\n",
              "      <th>Response</th>\n",
              "      <th>Data_Value_Unit</th>\n",
              "      <th>Data_Value_Type</th>\n",
              "      <th>Data_Value</th>\n",
              "      <th>Data_Value_Footnote_Symbol</th>\n",
              "      <th>Data_Value_Footnote</th>\n",
              "      <th>Data_Value_Std_Err</th>\n",
              "      <th>Low_Confidence_Limit</th>\n",
              "      <th>High_Confidence_Limit</th>\n",
              "      <th>Sample_Size</th>\n",
              "      <th>Gender</th>\n",
              "      <th>Race</th>\n",
              "      <th>Age</th>\n",
              "      <th>Education</th>\n",
              "      <th>GeoLocation</th>\n",
              "      <th>TopicTypeId</th>\n",
              "      <th>TopicId</th>\n",
              "      <th>MeasureId</th>\n",
              "      <th>StratificationID1</th>\n",
              "      <th>StratificationID2</th>\n",
              "      <th>StratificationID3</th>\n",
              "      <th>StratificationID4</th>\n",
              "      <th>SubMeasureID</th>\n",
              "      <th>DisplayOrder</th>\n",
              "    </tr>\n",
              "  </thead>\n",
              "  <tbody>\n",
              "    <tr>\n",
              "      <th>0</th>\n",
              "      <td>2011</td>\n",
              "      <td>AL</td>\n",
              "      <td>Alabama</td>\n",
              "      <td>Tobacco Use – Survey Data</td>\n",
              "      <td>Cigarette Use (Adults)</td>\n",
              "      <td>Current Smoking</td>\n",
              "      <td>BRFSS</td>\n",
              "      <td>NaN</td>\n",
              "      <td>%</td>\n",
              "      <td>Percentage</td>\n",
              "      <td>10.2</td>\n",
              "      <td>NaN</td>\n",
              "      <td>NaN</td>\n",
              "      <td>0.8</td>\n",
              "      <td>8.6</td>\n",
              "      <td>11.8</td>\n",
              "      <td>2601.0</td>\n",
              "      <td>Overall</td>\n",
              "      <td>All Races</td>\n",
              "      <td>65 Years and Older</td>\n",
              "      <td>All Grades</td>\n",
              "      <td>(32.84057112200048, -86.63186076199969)</td>\n",
              "      <td>BEH</td>\n",
              "      <td>100BEH</td>\n",
              "      <td>110CSA</td>\n",
              "      <td>1GEN</td>\n",
              "      <td>4AGE</td>\n",
              "      <td>6RAC</td>\n",
              "      <td>6EDU</td>\n",
              "      <td>BRF23</td>\n",
              "      <td>23</td>\n",
              "    </tr>\n",
              "    <tr>\n",
              "      <th>1</th>\n",
              "      <td>2011</td>\n",
              "      <td>AL</td>\n",
              "      <td>Alabama</td>\n",
              "      <td>Tobacco Use – Survey Data</td>\n",
              "      <td>Cigarette Use (Adults)</td>\n",
              "      <td>Current Smoking</td>\n",
              "      <td>BRFSS</td>\n",
              "      <td>NaN</td>\n",
              "      <td>%</td>\n",
              "      <td>Percentage</td>\n",
              "      <td>17.5</td>\n",
              "      <td>NaN</td>\n",
              "      <td>NaN</td>\n",
              "      <td>0.9</td>\n",
              "      <td>15.7</td>\n",
              "      <td>19.3</td>\n",
              "      <td>3704.0</td>\n",
              "      <td>Overall</td>\n",
              "      <td>All Races</td>\n",
              "      <td>Age 25 and Older</td>\n",
              "      <td>&gt; 12th Grade</td>\n",
              "      <td>(32.84057112200048, -86.63186076199969)</td>\n",
              "      <td>BEH</td>\n",
              "      <td>100BEH</td>\n",
              "      <td>110CSA</td>\n",
              "      <td>1GEN</td>\n",
              "      <td>7AGE</td>\n",
              "      <td>6RAC</td>\n",
              "      <td>5EDU</td>\n",
              "      <td>BRF24</td>\n",
              "      <td>24</td>\n",
              "    </tr>\n",
              "    <tr>\n",
              "      <th>2</th>\n",
              "      <td>2011</td>\n",
              "      <td>AL</td>\n",
              "      <td>Alabama</td>\n",
              "      <td>Tobacco Use – Survey Data</td>\n",
              "      <td>Cigarette Use (Adults)</td>\n",
              "      <td>Current Smoking</td>\n",
              "      <td>BRFSS</td>\n",
              "      <td>NaN</td>\n",
              "      <td>%</td>\n",
              "      <td>Percentage</td>\n",
              "      <td>17.7</td>\n",
              "      <td>NaN</td>\n",
              "      <td>NaN</td>\n",
              "      <td>0.9</td>\n",
              "      <td>16.0</td>\n",
              "      <td>19.4</td>\n",
              "      <td>3861.0</td>\n",
              "      <td>Overall</td>\n",
              "      <td>All Races</td>\n",
              "      <td>Age 20 and Older</td>\n",
              "      <td>&gt; 12th Grade</td>\n",
              "      <td>(32.84057112200048, -86.63186076199969)</td>\n",
              "      <td>BEH</td>\n",
              "      <td>100BEH</td>\n",
              "      <td>110CSA</td>\n",
              "      <td>1GEN</td>\n",
              "      <td>6AGE</td>\n",
              "      <td>6RAC</td>\n",
              "      <td>5EDU</td>\n",
              "      <td>BRF24</td>\n",
              "      <td>24</td>\n",
              "    </tr>\n",
              "    <tr>\n",
              "      <th>3</th>\n",
              "      <td>2011</td>\n",
              "      <td>AL</td>\n",
              "      <td>Alabama</td>\n",
              "      <td>Tobacco Use – Survey Data</td>\n",
              "      <td>Cigarette Use (Adults)</td>\n",
              "      <td>Current Smoking</td>\n",
              "      <td>BRFSS</td>\n",
              "      <td>NaN</td>\n",
              "      <td>%</td>\n",
              "      <td>Percentage</td>\n",
              "      <td>20.7</td>\n",
              "      <td>NaN</td>\n",
              "      <td>NaN</td>\n",
              "      <td>1.4</td>\n",
              "      <td>17.9</td>\n",
              "      <td>23.5</td>\n",
              "      <td>1996.0</td>\n",
              "      <td>Overall</td>\n",
              "      <td>African American</td>\n",
              "      <td>All Ages</td>\n",
              "      <td>All Grades</td>\n",
              "      <td>(32.84057112200048, -86.63186076199969)</td>\n",
              "      <td>BEH</td>\n",
              "      <td>100BEH</td>\n",
              "      <td>110CSA</td>\n",
              "      <td>1GEN</td>\n",
              "      <td>8AGE</td>\n",
              "      <td>1RAC</td>\n",
              "      <td>6EDU</td>\n",
              "      <td>BRF22</td>\n",
              "      <td>22</td>\n",
              "    </tr>\n",
              "    <tr>\n",
              "      <th>4</th>\n",
              "      <td>2011</td>\n",
              "      <td>AL</td>\n",
              "      <td>Alabama</td>\n",
              "      <td>Tobacco Use – Survey Data</td>\n",
              "      <td>Cigarette Use (Adults)</td>\n",
              "      <td>Current Smoking</td>\n",
              "      <td>BRFSS</td>\n",
              "      <td>NaN</td>\n",
              "      <td>%</td>\n",
              "      <td>Percentage</td>\n",
              "      <td>21.0</td>\n",
              "      <td>NaN</td>\n",
              "      <td>NaN</td>\n",
              "      <td>0.9</td>\n",
              "      <td>19.3</td>\n",
              "      <td>22.7</td>\n",
              "      <td>5050.0</td>\n",
              "      <td>Female</td>\n",
              "      <td>All Races</td>\n",
              "      <td>All Ages</td>\n",
              "      <td>All Grades</td>\n",
              "      <td>(32.84057112200048, -86.63186076199969)</td>\n",
              "      <td>BEH</td>\n",
              "      <td>100BEH</td>\n",
              "      <td>110CSA</td>\n",
              "      <td>3GEN</td>\n",
              "      <td>8AGE</td>\n",
              "      <td>6RAC</td>\n",
              "      <td>6EDU</td>\n",
              "      <td>BRF21</td>\n",
              "      <td>21</td>\n",
              "    </tr>\n",
              "    <tr>\n",
              "      <th>...</th>\n",
              "      <td>...</td>\n",
              "      <td>...</td>\n",
              "      <td>...</td>\n",
              "      <td>...</td>\n",
              "      <td>...</td>\n",
              "      <td>...</td>\n",
              "      <td>...</td>\n",
              "      <td>...</td>\n",
              "      <td>...</td>\n",
              "      <td>...</td>\n",
              "      <td>...</td>\n",
              "      <td>...</td>\n",
              "      <td>...</td>\n",
              "      <td>...</td>\n",
              "      <td>...</td>\n",
              "      <td>...</td>\n",
              "      <td>...</td>\n",
              "      <td>...</td>\n",
              "      <td>...</td>\n",
              "      <td>...</td>\n",
              "      <td>...</td>\n",
              "      <td>...</td>\n",
              "      <td>...</td>\n",
              "      <td>...</td>\n",
              "      <td>...</td>\n",
              "      <td>...</td>\n",
              "      <td>...</td>\n",
              "      <td>...</td>\n",
              "      <td>...</td>\n",
              "      <td>...</td>\n",
              "      <td>...</td>\n",
              "    </tr>\n",
              "    <tr>\n",
              "      <th>33183</th>\n",
              "      <td>2018</td>\n",
              "      <td>WY</td>\n",
              "      <td>Wyoming</td>\n",
              "      <td>Tobacco Use – Survey Data</td>\n",
              "      <td>Cigarette Use (Adults)</td>\n",
              "      <td>Current Smoking</td>\n",
              "      <td>BRFSS</td>\n",
              "      <td>NaN</td>\n",
              "      <td>%</td>\n",
              "      <td>Percentage</td>\n",
              "      <td>25.8</td>\n",
              "      <td>NaN</td>\n",
              "      <td>NaN</td>\n",
              "      <td>1.6</td>\n",
              "      <td>22.6</td>\n",
              "      <td>29.0</td>\n",
              "      <td>1206.0</td>\n",
              "      <td>Overall</td>\n",
              "      <td>All Races</td>\n",
              "      <td>Age 20 and Older</td>\n",
              "      <td>12th Grade</td>\n",
              "      <td>(43.23554134300048, -108.10983035299967)</td>\n",
              "      <td>BEH</td>\n",
              "      <td>100BEH</td>\n",
              "      <td>110CSA</td>\n",
              "      <td>1GEN</td>\n",
              "      <td>6AGE</td>\n",
              "      <td>6RAC</td>\n",
              "      <td>4EDU</td>\n",
              "      <td>BRF24</td>\n",
              "      <td>24</td>\n",
              "    </tr>\n",
              "    <tr>\n",
              "      <th>33184</th>\n",
              "      <td>2018</td>\n",
              "      <td>WY</td>\n",
              "      <td>Wyoming</td>\n",
              "      <td>Tobacco Use – Survey Data</td>\n",
              "      <td>Cigarette Use (Adults)</td>\n",
              "      <td>Current Smoking</td>\n",
              "      <td>BRFSS</td>\n",
              "      <td>NaN</td>\n",
              "      <td>%</td>\n",
              "      <td>Percentage</td>\n",
              "      <td>26.6</td>\n",
              "      <td>NaN</td>\n",
              "      <td>NaN</td>\n",
              "      <td>3.3</td>\n",
              "      <td>20.1</td>\n",
              "      <td>33.1</td>\n",
              "      <td>244.0</td>\n",
              "      <td>Overall</td>\n",
              "      <td>Hispanic</td>\n",
              "      <td>All Ages</td>\n",
              "      <td>All Grades</td>\n",
              "      <td>(43.23554134300048, -108.10983035299967)</td>\n",
              "      <td>BEH</td>\n",
              "      <td>100BEH</td>\n",
              "      <td>110CSA</td>\n",
              "      <td>1GEN</td>\n",
              "      <td>8AGE</td>\n",
              "      <td>4RAC</td>\n",
              "      <td>6EDU</td>\n",
              "      <td>BRF22</td>\n",
              "      <td>22</td>\n",
              "    </tr>\n",
              "    <tr>\n",
              "      <th>33185</th>\n",
              "      <td>2018</td>\n",
              "      <td>WY</td>\n",
              "      <td>Wyoming</td>\n",
              "      <td>Tobacco Use – Survey Data</td>\n",
              "      <td>Cigarette Use (Adults)</td>\n",
              "      <td>Current Smoking</td>\n",
              "      <td>BRFSS</td>\n",
              "      <td>NaN</td>\n",
              "      <td>%</td>\n",
              "      <td>Percentage</td>\n",
              "      <td>39.5</td>\n",
              "      <td>NaN</td>\n",
              "      <td>NaN</td>\n",
              "      <td>4.4</td>\n",
              "      <td>30.9</td>\n",
              "      <td>48.1</td>\n",
              "      <td>193.0</td>\n",
              "      <td>Overall</td>\n",
              "      <td>All Races</td>\n",
              "      <td>Age 25 and Older</td>\n",
              "      <td>&lt; 12th Grade</td>\n",
              "      <td>(43.23554134300048, -108.10983035299967)</td>\n",
              "      <td>BEH</td>\n",
              "      <td>100BEH</td>\n",
              "      <td>110CSA</td>\n",
              "      <td>1GEN</td>\n",
              "      <td>7AGE</td>\n",
              "      <td>6RAC</td>\n",
              "      <td>3EDU</td>\n",
              "      <td>BRF24</td>\n",
              "      <td>24</td>\n",
              "    </tr>\n",
              "    <tr>\n",
              "      <th>33186</th>\n",
              "      <td>2018</td>\n",
              "      <td>WY</td>\n",
              "      <td>Wyoming</td>\n",
              "      <td>Tobacco Use – Survey Data</td>\n",
              "      <td>Cigarette Use (Adults)</td>\n",
              "      <td>Current Smoking</td>\n",
              "      <td>BRFSS</td>\n",
              "      <td>NaN</td>\n",
              "      <td>%</td>\n",
              "      <td>Percentage</td>\n",
              "      <td>41.9</td>\n",
              "      <td>NaN</td>\n",
              "      <td>NaN</td>\n",
              "      <td>4.4</td>\n",
              "      <td>33.3</td>\n",
              "      <td>50.5</td>\n",
              "      <td>200.0</td>\n",
              "      <td>Overall</td>\n",
              "      <td>All Races</td>\n",
              "      <td>Age 20 and Older</td>\n",
              "      <td>&lt; 12th Grade</td>\n",
              "      <td>(43.23554134300048, -108.10983035299967)</td>\n",
              "      <td>BEH</td>\n",
              "      <td>100BEH</td>\n",
              "      <td>110CSA</td>\n",
              "      <td>1GEN</td>\n",
              "      <td>6AGE</td>\n",
              "      <td>6RAC</td>\n",
              "      <td>3EDU</td>\n",
              "      <td>BRF24</td>\n",
              "      <td>24</td>\n",
              "    </tr>\n",
              "    <tr>\n",
              "      <th>33187</th>\n",
              "      <td>2018</td>\n",
              "      <td>WY</td>\n",
              "      <td>Wyoming</td>\n",
              "      <td>Tobacco Use – Survey Data</td>\n",
              "      <td>Cigarette Use (Adults)</td>\n",
              "      <td>Current Smoking</td>\n",
              "      <td>BRFSS</td>\n",
              "      <td>NaN</td>\n",
              "      <td>%</td>\n",
              "      <td>Percentage</td>\n",
              "      <td>42.2</td>\n",
              "      <td>NaN</td>\n",
              "      <td>NaN</td>\n",
              "      <td>8.3</td>\n",
              "      <td>26.0</td>\n",
              "      <td>58.4</td>\n",
              "      <td>53.0</td>\n",
              "      <td>Overall</td>\n",
              "      <td>American Indian/Alaska Native</td>\n",
              "      <td>All Ages</td>\n",
              "      <td>All Grades</td>\n",
              "      <td>(43.23554134300048, -108.10983035299967)</td>\n",
              "      <td>BEH</td>\n",
              "      <td>100BEH</td>\n",
              "      <td>110CSA</td>\n",
              "      <td>1GEN</td>\n",
              "      <td>8AGE</td>\n",
              "      <td>2RAC</td>\n",
              "      <td>6EDU</td>\n",
              "      <td>BRF22</td>\n",
              "      <td>22</td>\n",
              "    </tr>\n",
              "  </tbody>\n",
              "</table>\n",
              "<p>7677 rows × 31 columns</p>\n",
              "</div>"
            ],
            "text/plain": [
              "       YEAR LocationAbbr  ... SubMeasureID DisplayOrder\n",
              "0      2011           AL  ...        BRF23           23\n",
              "1      2011           AL  ...        BRF24           24\n",
              "2      2011           AL  ...        BRF24           24\n",
              "3      2011           AL  ...        BRF22           22\n",
              "4      2011           AL  ...        BRF21           21\n",
              "...     ...          ...  ...          ...          ...\n",
              "33183  2018           WY  ...        BRF24           24\n",
              "33184  2018           WY  ...        BRF22           22\n",
              "33185  2018           WY  ...        BRF24           24\n",
              "33186  2018           WY  ...        BRF24           24\n",
              "33187  2018           WY  ...        BRF22           22\n",
              "\n",
              "[7677 rows x 31 columns]"
            ]
          },
          "metadata": {
            "tags": []
          },
          "execution_count": 31
        }
      ]
    },
    {
      "cell_type": "code",
      "metadata": {
        "id": "vKcljhlZ7Cv1",
        "colab_type": "code",
        "colab": {
          "base_uri": "https://localhost:8080/",
          "height": 33
        },
        "outputId": "20990ff2-ab6a-416b-a2c3-64525f1116a8"
      },
      "source": [
        "years = []\n",
        "for i in data['YEAR']:\n",
        "  if int(i) not in years:\n",
        "    years.append(i)\n",
        "years"
      ],
      "execution_count": 32,
      "outputs": [
        {
          "output_type": "execute_result",
          "data": {
            "text/plain": [
              "[2011, 2012, 2013, 2014, 2015, 2016, 2017, 2018]"
            ]
          },
          "metadata": {
            "tags": []
          },
          "execution_count": 32
        }
      ]
    },
    {
      "cell_type": "code",
      "metadata": {
        "id": "3ZbgZWbR8z7C",
        "colab_type": "code",
        "colab": {
          "base_uri": "https://localhost:8080/",
          "height": 117
        },
        "outputId": "dfc9da12-7f26-4711-c3db-f785690c93b9"
      },
      "source": [
        "races = []\n",
        "for i in data['Race']:\n",
        "  if i not in races:\n",
        "    races.append(i)\n",
        "races"
      ],
      "execution_count": 33,
      "outputs": [
        {
          "output_type": "execute_result",
          "data": {
            "text/plain": [
              "['All Races',\n",
              " 'African American',\n",
              " 'White',\n",
              " 'Hispanic',\n",
              " 'American Indian/Alaska Native',\n",
              " 'Asian/Pacific Islander']"
            ]
          },
          "metadata": {
            "tags": []
          },
          "execution_count": 33
        }
      ]
    },
    {
      "cell_type": "code",
      "metadata": {
        "id": "5kL0URGu8ZDo",
        "colab_type": "code",
        "colab": {
          "base_uri": "https://localhost:8080/",
          "height": 683
        },
        "outputId": "5ac7e44a-4ab4-405e-b34c-410f369baaf7"
      },
      "source": [
        "\n",
        "averages = [[20.683018867924527, 20.069523809523815, 19.685987261146497, 19.312440191387562, 18.90689655172414, 18.642172523961666, 18.39780821917809, 18.154014598540154],\n",
        "[21.07735849056604, 20.118867924528303, 19.504430379746836, 19.08516746411483, 18.484169884169894, 18.08006430868168, 17.77265193370166, 17.458088235294127],\n",
        "[33.25, 34.301428571428566, 34.69906542056076, 34.18865248226951, 33.74204545454547, 33.38349056603776, 33.05714285714288, 32.82127659574471],\n",
        "[13.183783783783783, 11.867123287671232, 11.385849056603767, 11.086805555555552, 10.75027624309392, 10.404109589041092, 10.431640624999996, 10.41909722222222],\n",
        "[25.592682926829273, 24.096385542168672, 23.495934959349594, 23.04484848484848, 22.81980676328502, 22.323790322580635, 21.984192439862532, 21.544848484848476]]\n",
        "\n",
        "X = []\n",
        "for i in averages:\n",
        "  for j in range(len(years)):\n",
        "    X.append([years[j], i[j]])\n",
        "y = []\n",
        "for t in range(5):\n",
        "  for k in range(8):\n",
        "    y.append(t)\n",
        "\n",
        "\n",
        "X\n"
      ],
      "execution_count": 34,
      "outputs": [
        {
          "output_type": "execute_result",
          "data": {
            "text/plain": [
              "[[2011, 20.683018867924527],\n",
              " [2012, 20.069523809523815],\n",
              " [2013, 19.685987261146497],\n",
              " [2014, 19.312440191387562],\n",
              " [2015, 18.90689655172414],\n",
              " [2016, 18.642172523961666],\n",
              " [2017, 18.39780821917809],\n",
              " [2018, 18.154014598540154],\n",
              " [2011, 21.07735849056604],\n",
              " [2012, 20.118867924528303],\n",
              " [2013, 19.504430379746836],\n",
              " [2014, 19.08516746411483],\n",
              " [2015, 18.484169884169894],\n",
              " [2016, 18.08006430868168],\n",
              " [2017, 17.77265193370166],\n",
              " [2018, 17.458088235294127],\n",
              " [2011, 33.25],\n",
              " [2012, 34.301428571428566],\n",
              " [2013, 34.69906542056076],\n",
              " [2014, 34.18865248226951],\n",
              " [2015, 33.74204545454547],\n",
              " [2016, 33.38349056603776],\n",
              " [2017, 33.05714285714288],\n",
              " [2018, 32.82127659574471],\n",
              " [2011, 13.183783783783783],\n",
              " [2012, 11.867123287671232],\n",
              " [2013, 11.385849056603767],\n",
              " [2014, 11.086805555555552],\n",
              " [2015, 10.75027624309392],\n",
              " [2016, 10.404109589041092],\n",
              " [2017, 10.431640624999996],\n",
              " [2018, 10.41909722222222],\n",
              " [2011, 25.592682926829273],\n",
              " [2012, 24.096385542168672],\n",
              " [2013, 23.495934959349594],\n",
              " [2014, 23.04484848484848],\n",
              " [2015, 22.81980676328502],\n",
              " [2016, 22.323790322580635],\n",
              " [2017, 21.984192439862532],\n",
              " [2018, 21.544848484848476]]"
            ]
          },
          "metadata": {
            "tags": []
          },
          "execution_count": 34
        }
      ]
    },
    {
      "cell_type": "code",
      "metadata": {
        "id": "3Y8ncsb3CLdQ",
        "colab_type": "code",
        "colab": {
          "base_uri": "https://localhost:8080/",
          "height": 683
        },
        "outputId": "d1127a60-f3b9-49f9-cf6d-3d148c494be1"
      },
      "source": [
        "y"
      ],
      "execution_count": 35,
      "outputs": [
        {
          "output_type": "execute_result",
          "data": {
            "text/plain": [
              "[0,\n",
              " 0,\n",
              " 0,\n",
              " 0,\n",
              " 0,\n",
              " 0,\n",
              " 0,\n",
              " 0,\n",
              " 1,\n",
              " 1,\n",
              " 1,\n",
              " 1,\n",
              " 1,\n",
              " 1,\n",
              " 1,\n",
              " 1,\n",
              " 2,\n",
              " 2,\n",
              " 2,\n",
              " 2,\n",
              " 2,\n",
              " 2,\n",
              " 2,\n",
              " 2,\n",
              " 3,\n",
              " 3,\n",
              " 3,\n",
              " 3,\n",
              " 3,\n",
              " 3,\n",
              " 3,\n",
              " 3,\n",
              " 4,\n",
              " 4,\n",
              " 4,\n",
              " 4,\n",
              " 4,\n",
              " 4,\n",
              " 4,\n",
              " 4]"
            ]
          },
          "metadata": {
            "tags": []
          },
          "execution_count": 35
        }
      ]
    },
    {
      "cell_type": "code",
      "metadata": {
        "id": "UpaSHBIo9HYi",
        "colab_type": "code",
        "colab": {}
      },
      "source": [
        "cmap_light = ListedColormap(['orange', 'cyan', 'cornflowerblue', 'green', 'purple'])\n",
        "cmap_bold = ListedColormap(['darkorange', 'c', 'darkblue', 'darkgreen', 'magenta'])"
      ],
      "execution_count": 36,
      "outputs": []
    },
    {
      "cell_type": "code",
      "metadata": {
        "id": "LAgAVsTEOVE9",
        "colab_type": "code",
        "colab": {}
      },
      "source": [
        "year_vals = []\n",
        "perc_vals = []\n",
        "for i in X:\n",
        "  year_vals.append(float(i[0]))\n",
        "  perc_vals.append(float(i[1]))\n",
        "year_vals = np.asarray(year_vals)\n",
        "perc_vals = np.asarray(perc_vals)\n"
      ],
      "execution_count": 37,
      "outputs": []
    },
    {
      "cell_type": "code",
      "metadata": {
        "id": "-12H-8xERhnK",
        "colab_type": "code",
        "colab": {}
      },
      "source": [
        "h = .02 "
      ],
      "execution_count": 38,
      "outputs": []
    },
    {
      "cell_type": "code",
      "metadata": {
        "id": "qTMPdSYM9Og4",
        "colab_type": "code",
        "colab": {
          "base_uri": "https://localhost:8080/",
          "height": 295
        },
        "outputId": "66f907be-2ee7-4670-fc17-7f61b68b0cc9"
      },
      "source": [
        "#for weights in ['uniform', 'distance']:\n",
        "clf = neighbors.KNeighborsClassifier(n_neighbors, weights='uniform')\n",
        "clf.fit(X, y)\n",
        "\n",
        "\n",
        "x_min = min(year_vals) - 1 \n",
        "x_max = max(year_vals) + 1 \n",
        "y_min = min(perc_vals) - 1 \n",
        "y_max = max(perc_vals) + 1 \n",
        "xx, yy = np.meshgrid(np.arange(x_min, x_max, h),\n",
        "                      np.arange(y_min, y_max, h))\n",
        "Z = clf.predict(np.c_[xx.ravel(), yy.ravel()])\n",
        "\n",
        "Z = Z.reshape(xx.shape)\n",
        "\n",
        "plt.figure()\n",
        "plt.pcolormesh(xx, yy, Z, cmap=cmap_light)\n",
        "\n",
        "plt.scatter(year_vals, perc_vals, c=y, cmap=cmap_bold,\n",
        "              edgecolor='k', s=20)\n",
        "plt.xlim(xx.min(), xx.max())\n",
        "plt.ylim(yy.min(), yy.max())\n",
        "plt.xlabel(\"Year\")\n",
        "plt.ylabel(\"Percentage of Given Population\")\n",
        "plt.title(\"Classifying Average Annual US Smoking Percentages by Race\")\n",
        "\n",
        "plt.show()\n"
      ],
      "execution_count": 42,
      "outputs": [
        {
          "output_type": "display_data",
          "data": {
            "image/png": "[encoded data removed]",
            "text/plain": [
              "<Figure size 432x288 with 1 Axes>"
            ]
          },
          "metadata": {
            "tags": [],
            "needs_background": "light"
          }
        }
      ]
    },
    {
      "cell_type": "code",
      "metadata": {
        "id": "3K5cgpHcHjR7",
        "colab_type": "code",
        "colab": {
          "base_uri": "https://localhost:8080/",
          "height": 33
        },
        "outputId": "ef3e5491-7159-4fa1-b563-7240c2239616"
      },
      "source": [
        "print(clf.predict([[2011, 1]]))\n"
      ],
      "execution_count": 40,
      "outputs": [
        {
          "output_type": "stream",
          "text": [
            "[3]\n"
          ],
          "name": "stdout"
        }
      ]
    },
    {
      "cell_type": "code",
      "metadata": {
        "id": "ZyvnjHJIJtLW",
        "colab_type": "code",
        "colab": {
          "base_uri": "https://localhost:8080/",
          "height": 35
        },
        "outputId": "1e2d5698-36e5-4501-9432-2e82d6f6d1a5"
      },
      "source": [
        "races[3]"
      ],
      "execution_count": 41,
      "outputs": [
        {
          "output_type": "execute_result",
          "data": {
            "application/vnd.google.colaboratory.intrinsic+json": {
              "type": "string"
            },
            "text/plain": [
              "'Hispanic'"
            ]
          },
          "metadata": {
            "tags": []
          },
          "execution_count": 41
        }
      ]
    },
    {
      "cell_type": "code",
      "metadata": {
        "id": "nBywbtUgkT5Q",
        "colab_type": "code",
        "colab": {}
      },
      "source": [
        ""
      ],
      "execution_count": 41,
      "outputs": []
    }
  ]
}