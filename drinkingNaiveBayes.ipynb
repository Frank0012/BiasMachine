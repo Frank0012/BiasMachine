{
  "nbformat": 4,
  "nbformat_minor": 0,
  "metadata": {
    "colab": {
      "name": "drinkingNaiveBayes.ipynb",
      "provenance": [],
      "mount_file_id": "128doUFIkZJGwJ6rCUpUgF7RIpzxifikr",
      "authorship_tag": "ABX9TyMENDixHQGc473IwOd6Oz6u",
      "include_colab_link": true
    },
    "kernelspec": {
      "name": "python3",
      "display_name": "Python 3"
    }
  },
  "cells": [
    {
      "cell_type": "markdown",
      "metadata": {
        "id": "view-in-github",
        "colab_type": "text"
      },
      "source": [
        "<a href=\"https://colab.research.google.com/github/Frank0012/BiasMachine/blob/master/drinkingNaiveBayes.ipynb\" target=\"_parent\"><img src=\"https://colab.research.google.com/assets/colab-badge.svg\" alt=\"Open In Colab\"/></a>"
      ]
    },
    {
      "cell_type": "code",
      "metadata": {
        "id": "XoYNeSvdTF-Y",
        "colab_type": "code",
        "colab": {}
      },
      "source": [
        "import pandas as pd\n",
        "import numpy as np\n",
        "from sklearn.model_selection import train_test_split\n",
        "from sklearn.naive_bayes import MultinomialNB\n",
        "from sklearn.linear_model import SGDClassifier\n",
        "from sklearn.feature_extraction.text import CountVectorizer \n"
      ],
      "execution_count": 21,
      "outputs": []
    },
    {
      "cell_type": "code",
      "metadata": {
        "id": "Ze6Rh1pZTajH",
        "colab_type": "code",
        "colab": {}
      },
      "source": [
        "df = pd.read_csv('/content/drive/My Drive/Colab Notebooks/BCHC_Data_Inventory-Percent of Adults Who Binge Drank_records.csv')"
      ],
      "execution_count": 22,
      "outputs": []
    },
    {
      "cell_type": "code",
      "metadata": {
        "id": "wPwt19biezLy",
        "colab_type": "code",
        "colab": {}
      },
      "source": [
        "#df.dropna(subset=['Value'], inplace=True)\n",
        "#for i in df['Value']:\n",
        "#  if i == None:\n",
        " #   df.Drop(i)\n",
        "  #if i == i[~numpy.isnan(i)]:\n",
        "   # df.Drop(i)\n"
      ],
      "execution_count": 23,
      "outputs": []
    },
    {
      "cell_type": "code",
      "metadata": {
        "id": "zvom9npkHFph",
        "colab_type": "code",
        "colab": {
          "base_uri": "https://localhost:8080/",
          "height": 1000
        },
        "outputId": "fa762819-a7f9-4d28-acc0-0b487d62c782"
      },
      "source": [
        "data = []\n",
        "print(len(df['Sex'])-2)\n",
        "for i in range(len(df['Sex'])):\n",
        "  #if df['Value'][i] != None:\n",
        "  data.append(df['Sex'][i] + '  ' + df['Race/Ethnicity'][i] + '  ' + df['Place'][i])\n",
        "\n",
        "data\n",
        "\n"
      ],
      "execution_count": 24,
      "outputs": [
        {
          "output_type": "stream",
          "text": [
            "533\n"
          ],
          "name": "stdout"
        },
        {
          "output_type": "execute_result",
          "data": {
            "text/plain": [
              "['Both  Black  Charlotte, NC',\n",
              " 'Both  Black  Miami (Miami-Dade County), FL',\n",
              " 'Female  All  Miami (Miami-Dade County), FL',\n",
              " 'Both  Other  Houston, TX',\n",
              " 'Both  Black  Charlotte, NC',\n",
              " 'Both  Asian/PI  New York City, NY',\n",
              " 'Both  All  Minneapolis, MN',\n",
              " 'Female  All  Detroit, MI',\n",
              " 'Female  All  Charlotte, NC',\n",
              " 'Female  All  Las Vegas (Clark County), NV',\n",
              " 'Both  Other  Las Vegas (Clark County), NV',\n",
              " 'Both  Asian/PI  Seattle, WA',\n",
              " 'Both  Asian/PI  Seattle, WA',\n",
              " 'Both  All  Minneapolis, MN',\n",
              " 'Female  All  Las Vegas (Clark County), NV',\n",
              " 'Female  All  Las Vegas (Clark County), NV',\n",
              " 'Female  All  Houston, TX',\n",
              " 'Female  All  San Antonio, TX',\n",
              " 'Female  All  Miami (Miami-Dade County), FL',\n",
              " 'Both  Asian/PI  Boston, MA',\n",
              " 'Female  All  Los Angeles, CA',\n",
              " 'Both  White  San Antonio, TX',\n",
              " 'Female  All  Charlotte, NC',\n",
              " 'Both  Asian/PI  New York City, NY',\n",
              " 'Female  All  Houston, TX',\n",
              " 'Both  Black  Columbus, OH',\n",
              " 'Both  Black  Baltimore, MD',\n",
              " 'Female  All  Phoenix, AZ',\n",
              " 'Both  Black  Denver, CO',\n",
              " 'Female  All  Baltimore, MD',\n",
              " 'Female  All  Indianapolis (Marion County), IN',\n",
              " 'Female  All  Las Vegas (Clark County), NV',\n",
              " 'Female  All  Columbus, OH',\n",
              " 'Both  Asian/PI  Seattle, WA',\n",
              " 'Both  Other  Seattle, WA',\n",
              " 'Both  Other  Denver, CO',\n",
              " 'Both  Hispanic  Philadelphia, PA',\n",
              " 'Female  All  San Antonio, TX',\n",
              " 'Both  Black  Columbus, OH',\n",
              " 'Female  All  San Diego County, CA',\n",
              " 'Both  Black  Las Vegas (Clark County), NV',\n",
              " 'Both  Asian/PI  Las Vegas (Clark County), NV',\n",
              " 'Both  Black  Charlotte, NC',\n",
              " 'Both  Black  Houston, TX',\n",
              " 'Both  Black  Las Vegas (Clark County), NV',\n",
              " 'Both  Other  Houston, TX',\n",
              " 'Both  All  Miami (Miami-Dade County), FL',\n",
              " 'Female  All  San Diego County, CA',\n",
              " 'Both  Other  Las Vegas (Clark County), NV',\n",
              " 'Both  Hispanic  San Diego County, CA',\n",
              " 'Both  Asian/PI  New York City, NY',\n",
              " 'Both  Black  Seattle, WA',\n",
              " 'Both  White  Miami (Miami-Dade County), FL',\n",
              " 'Both  Black  Baltimore, MD',\n",
              " 'Both  Black  Boston, MA',\n",
              " 'Both  Black  Philadelphia, PA',\n",
              " 'Both  Black  Charlotte, NC',\n",
              " 'Female  All  Charlotte, NC',\n",
              " 'Both  Asian/PI  Seattle, WA',\n",
              " 'Both  Asian/PI  Boston, MA',\n",
              " 'Both  Black  San Antonio, TX',\n",
              " 'Female  All  San Diego County, CA',\n",
              " 'Female  All  Indianapolis (Marion County), IN',\n",
              " 'Female  All  Columbus, OH',\n",
              " 'Female  All  Charlotte, NC',\n",
              " 'Both  Black  Denver, CO',\n",
              " 'Both  Other  Seattle, WA',\n",
              " 'Both  Black  Denver, CO',\n",
              " 'Both  Asian/PI  New York City, NY',\n",
              " 'Female  All  San Antonio, TX',\n",
              " 'Female  All  Philadelphia, PA',\n",
              " 'Both  Black  Las Vegas (Clark County), NV',\n",
              " 'Both  Black  New York City, NY',\n",
              " 'Both  Other  New York City, NY',\n",
              " 'Female  All  Houston, TX',\n",
              " 'Both  Asian/PI  Las Vegas (Clark County), NV',\n",
              " 'Both  Black  Charlotte, NC',\n",
              " 'Both  All  San Diego County, CA',\n",
              " 'Both  White  Houston, TX',\n",
              " 'Both  Black  New York City, NY',\n",
              " 'Both  Asian/PI  New York City, NY',\n",
              " 'Both  Asian/PI  Los Angeles, CA',\n",
              " 'Female  All  Phoenix, AZ',\n",
              " 'Both  Asian/PI  Las Vegas (Clark County), NV',\n",
              " 'Both  Black  New York City, NY',\n",
              " 'Female  All  Charlotte, NC',\n",
              " 'Female  All  New York City, NY',\n",
              " 'Female  All  New York City, NY',\n",
              " 'Female  All  New York City, NY',\n",
              " 'Both  All  San Antonio, TX',\n",
              " 'Male  All  Charlotte, NC',\n",
              " 'Both  Black  Los Angeles, CA',\n",
              " 'Female  All  Philadelphia, PA',\n",
              " 'Female  All  Philadelphia, PA',\n",
              " 'Both  All  Indianapolis (Marion County), IN',\n",
              " 'Both  White  Las Vegas (Clark County), NV',\n",
              " 'Both  Black  Las Vegas (Clark County), NV',\n",
              " 'Both  All  Charlotte, NC',\n",
              " 'Both  Black  Houston, TX',\n",
              " 'Female  All  New York City, NY',\n",
              " 'Both  Black  New York City, NY',\n",
              " 'Both  All  Fort Worth (Tarrant County), TX',\n",
              " 'Both  Asian/PI  Las Vegas (Clark County), NV',\n",
              " 'Both  Hispanic  Las Vegas (Clark County), NV',\n",
              " 'Female  All  Las Vegas (Clark County), NV',\n",
              " 'Both  Other  Houston, TX',\n",
              " 'Both  All  Las Vegas (Clark County), NV',\n",
              " 'Both  Hispanic  Miami (Miami-Dade County), FL',\n",
              " 'Female  All  Baltimore, MD',\n",
              " 'Both  Black  Miami (Miami-Dade County), FL',\n",
              " 'Both  Other  Las Vegas (Clark County), NV',\n",
              " 'Female  All  Charlotte, NC',\n",
              " 'Both  All  Las Vegas (Clark County), NV',\n",
              " 'Both  Black  Houston, TX',\n",
              " 'Both  All  Las Vegas (Clark County), NV',\n",
              " 'Both  American Indian/Alaska Native  Seattle, WA',\n",
              " 'Both  All  Charlotte, NC',\n",
              " 'Female  All  New York City, NY',\n",
              " 'Both  Black  Seattle, WA',\n",
              " 'Both  Other  Seattle, WA',\n",
              " 'Female  All  Seattle, WA',\n",
              " 'Both  Black  Philadelphia, PA',\n",
              " 'Female  All  Seattle, WA',\n",
              " 'Both  White  Indianapolis (Marion County), IN',\n",
              " 'Both  White  San Antonio, TX',\n",
              " 'Both  Black  Philadelphia, PA',\n",
              " 'Female  All  Philadelphia, PA',\n",
              " 'Both  White  Las Vegas (Clark County), NV',\n",
              " 'Both  Black  Columbus, OH',\n",
              " 'Both  Asian/PI  U.S. Total, U.S. Total',\n",
              " 'Both  Black  New York City, NY',\n",
              " 'Both  Hispanic  Las Vegas (Clark County), NV',\n",
              " 'Both  Black  Charlotte, NC',\n",
              " 'Both  Black  Washington, DC',\n",
              " 'Both  Black  Baltimore, MD',\n",
              " 'Both  Asian/PI  U.S. Total, U.S. Total',\n",
              " 'Both  All  Charlotte, NC',\n",
              " 'Both  All  Baltimore, MD',\n",
              " 'Both  White  Las Vegas (Clark County), NV',\n",
              " 'Both  Black  Detroit, MI',\n",
              " 'Both  Black  Washington, DC',\n",
              " 'Both  All  San Jose, CA',\n",
              " 'Both  All  Fort Worth (Tarrant County), TX',\n",
              " 'Both  All  Indianapolis (Marion County), IN',\n",
              " 'Both  White  Phoenix, AZ',\n",
              " 'Both  All  Kansas City, MO',\n",
              " 'Both  All  Las Vegas (Clark County), NV',\n",
              " 'Both  White  Houston, TX',\n",
              " 'Both  Asian/PI  U.S. Total, U.S. Total',\n",
              " 'Both  White  Las Vegas (Clark County), NV',\n",
              " 'Female  All  Denver, CO',\n",
              " 'Both  White  San Antonio, TX',\n",
              " 'Both  All  Houston, TX',\n",
              " 'Female  All  Portland (Multnomah County), OR',\n",
              " 'Both  Asian/PI  Seattle, WA',\n",
              " 'Male  All  San Diego County, CA',\n",
              " 'Both  Black  Seattle, WA',\n",
              " 'Both  Black  Philadelphia, PA',\n",
              " 'Male  All  San Diego County, CA',\n",
              " 'Both  Black  Philadelphia, PA',\n",
              " 'Both  Hispanic  San Diego County, CA',\n",
              " 'Both  All  San Diego County, CA',\n",
              " 'Both  All  Houston, TX',\n",
              " 'Both  Black  Columbus, OH',\n",
              " 'Female  All  San Diego County, CA',\n",
              " 'Both  All  Fort Worth (Tarrant County), TX',\n",
              " 'Female  All  San Antonio, TX',\n",
              " 'Both  All  Phoenix, AZ',\n",
              " 'Both  Hispanic  San Antonio, TX',\n",
              " 'Female  All  Columbus, OH',\n",
              " 'Both  Black  Columbus, OH',\n",
              " 'Both  Asian/PI  Oakland (Alameda County), CA',\n",
              " 'Female  All  Portland (Multnomah County), OR',\n",
              " 'Both  Black  Detroit, MI',\n",
              " 'Both  Hispanic  Washington, DC',\n",
              " 'Both  Asian/PI  U.S. Total, U.S. Total',\n",
              " 'Both  Black  Detroit, MI',\n",
              " 'Male  All  Detroit, MI',\n",
              " 'Both  White  Charlotte, NC',\n",
              " 'Both  Black  Denver, CO',\n",
              " 'Both  Hispanic  New York City, NY',\n",
              " 'Both  All  San Diego County, CA',\n",
              " 'Both  All  Columbus, OH',\n",
              " 'Female  All  Seattle, WA',\n",
              " 'Both  Black  Philadelphia, PA',\n",
              " 'Female  All  Philadelphia, PA',\n",
              " 'Both  Hispanic  Seattle, WA',\n",
              " 'Both  All  Detroit, MI',\n",
              " 'Both  All  Philadelphia, PA',\n",
              " 'Both  All  Columbus, OH',\n",
              " 'Female  All  Detroit, MI',\n",
              " 'Both  All  San Diego County, CA',\n",
              " 'Both  All  Charlotte, NC',\n",
              " 'Both  Hispanic  Las Vegas (Clark County), NV',\n",
              " 'Both  White  Columbus, OH',\n",
              " 'Female  All  Detroit, MI',\n",
              " 'Both  All  Los Angeles, CA',\n",
              " 'Female  All  Detroit, MI',\n",
              " 'Both  White  San Diego County, CA',\n",
              " 'Both  All  New York City, NY',\n",
              " 'Both  White  Charlotte, NC',\n",
              " 'Both  White  Los Angeles, CA',\n",
              " 'Both  White  San Diego County, CA',\n",
              " 'Both  Hispanic  Las Vegas (Clark County), NV',\n",
              " 'Both  White  Indianapolis (Marion County), IN',\n",
              " 'Male  All  Indianapolis (Marion County), IN',\n",
              " 'Male  All  Miami (Miami-Dade County), FL',\n",
              " 'Both  All  Detroit, MI',\n",
              " 'Female  All  Seattle, WA',\n",
              " 'Both  Hispanic  Seattle, WA',\n",
              " 'Both  White  Philadelphia, PA',\n",
              " 'Both  Black  Las Vegas (Clark County), NV',\n",
              " 'Both  Asian/PI  Seattle, WA',\n",
              " 'Both  Hispanic  Philadelphia, PA',\n",
              " 'Female  All  Washington, DC',\n",
              " 'Both  Black  Boston, MA',\n",
              " 'Female  All  Columbus, OH',\n",
              " 'Both  Hispanic  New York City, NY',\n",
              " 'Both  All  New York City, NY',\n",
              " 'Both  Other  Denver, CO',\n",
              " 'Both  All  Detroit, MI',\n",
              " 'Both  All  Indianapolis (Marion County), IN',\n",
              " 'Both  White  Charlotte, NC',\n",
              " 'Both  All  Charlotte, NC',\n",
              " 'Both  Other  Las Vegas (Clark County), NV',\n",
              " 'Both  Hispanic  Denver, CO',\n",
              " 'Both  Hispanic  Phoenix, AZ',\n",
              " 'Both  All  San Antonio, TX',\n",
              " 'Female  All  U.S. Total, U.S. Total',\n",
              " 'Both  Hispanic  Denver, CO',\n",
              " 'Both  All  San Diego County, CA',\n",
              " 'Both  All  Fort Worth (Tarrant County), TX',\n",
              " 'Male  All  San Antonio, TX',\n",
              " 'Male  All  Indianapolis (Marion County), IN',\n",
              " 'Both  White  San Diego County, CA',\n",
              " 'Both  Black  Washington, DC',\n",
              " 'Both  All  New York City, NY',\n",
              " 'Both  White  Phoenix, AZ',\n",
              " 'Both  All  Fort Worth (Tarrant County), TX',\n",
              " 'Female  All  Denver, CO',\n",
              " 'Female  All  Philadelphia, PA',\n",
              " 'Both  Hispanic  Los Angeles, CA',\n",
              " 'Both  White  Philadelphia, PA',\n",
              " 'Both  White  Philadelphia, PA',\n",
              " 'Both  All  Philadelphia, PA',\n",
              " 'Both  White  Philadelphia, PA',\n",
              " 'Both  Hispanic  Miami (Miami-Dade County), FL',\n",
              " 'Both  Hispanic  San Diego County, CA',\n",
              " 'Both  Hispanic  New York City, NY',\n",
              " 'Both  White  Las Vegas (Clark County), NV',\n",
              " 'Both  All  Phoenix, AZ',\n",
              " 'Both  All  Miami (Miami-Dade County), FL',\n",
              " 'Both  All  New York City, NY',\n",
              " 'Both  White  San Diego County, CA',\n",
              " 'Both  Black  Boston, MA',\n",
              " 'Both  Hispanic  Boston, MA',\n",
              " 'Both  Black  Denver, CO',\n",
              " 'Male  All  Charlotte, NC',\n",
              " 'Both  White  Indianapolis (Marion County), IN',\n",
              " 'Both  Hispanic  Boston, MA',\n",
              " 'Both  All  Detroit, MI',\n",
              " 'Both  White  Columbus, OH',\n",
              " 'Both  Black  Chicago, Il',\n",
              " 'Male  All  Detroit, MI',\n",
              " 'Both  All  Las Vegas (Clark County), NV',\n",
              " 'Female  All  Columbus, OH',\n",
              " 'Both  Black  Columbus, OH',\n",
              " 'Both  All  Long Beach, CA',\n",
              " 'Male  All  Charlotte, NC',\n",
              " 'Both  All  Charlotte, NC',\n",
              " 'Both  All  Baltimore, MD',\n",
              " 'Both  Hispanic  Houston, TX',\n",
              " 'Both  All  San Diego County, CA',\n",
              " 'Both  Other  New York City, NY',\n",
              " 'Both  Black  Detroit, MI',\n",
              " 'Female  All  Denver, CO',\n",
              " 'Female  All  Denver, CO',\n",
              " 'Both  All  Philadelphia, PA',\n",
              " 'Both  All  Seattle, WA',\n",
              " 'Both  White  Miami (Miami-Dade County), FL',\n",
              " 'Both  Hispanic  New York City, NY',\n",
              " 'Both  All  Philadelphia, PA',\n",
              " 'Both  All  Seattle, WA',\n",
              " 'Both  All  Houston, TX',\n",
              " 'Female  All  Boston, MA',\n",
              " 'Male  All  Las Vegas (Clark County), NV',\n",
              " 'Female  All  Denver, CO',\n",
              " 'Both  Hispanic  Houston, TX',\n",
              " 'Male  All  Las Vegas (Clark County), NV',\n",
              " 'Both  White  San Antonio, TX',\n",
              " 'Both  All  Columbus, OH',\n",
              " 'Both  All  Portland (Multnomah County), OR',\n",
              " 'Female  All  Boston, MA',\n",
              " 'Female  All  Washington, DC',\n",
              " 'Both  All  Columbus, OH',\n",
              " 'Both  All  Portland (Multnomah County), OR',\n",
              " 'Both  All  New York City, NY',\n",
              " 'Female  All  Washington, DC',\n",
              " 'Both  All  Fort Worth (Tarrant County), TX',\n",
              " 'Both  Other  Washington, DC',\n",
              " 'Male  All  Las Vegas (Clark County), NV',\n",
              " 'Both  Other  Las Vegas (Clark County), NV',\n",
              " 'Both  Other  Washington, DC',\n",
              " 'Female  All  Columbus, OH',\n",
              " 'Both  Asian/PI  Las Vegas (Clark County), NV',\n",
              " 'Both  All  Seattle, WA',\n",
              " 'Both  Hispanic  Philadelphia, PA',\n",
              " 'Both  Hispanic  Philadelphia, PA',\n",
              " 'Both  All  Philadelphia, PA',\n",
              " 'Both  Hispanic  Philadelphia, PA',\n",
              " 'Both  White  Philadelphia, PA',\n",
              " 'Female  All  Philadelphia, PA',\n",
              " 'Both  White  Columbus, OH',\n",
              " 'Both  Other  U.S. Total, U.S. Total',\n",
              " 'Male  All  Las Vegas (Clark County), NV',\n",
              " 'Female  All  Boston, MA',\n",
              " 'Male  All  Baltimore, MD',\n",
              " 'Male  All  Baltimore, MD',\n",
              " 'Female  All  Chicago, Il',\n",
              " 'Female  All  Oakland (Alameda County), CA',\n",
              " 'Female  All  Oakland (Alameda County), CA',\n",
              " 'Male  All  Columbus, OH',\n",
              " 'Both  Hispanic  Denver, CO',\n",
              " 'Male  All  Charlotte, NC',\n",
              " 'Male  All  Philadelphia, PA',\n",
              " 'Female  All  Denver, CO',\n",
              " 'Both  Hispanic  San Antonio, TX',\n",
              " 'Male  All  New York City, NY',\n",
              " 'Male  All  Charlotte, NC',\n",
              " 'Both  All  Columbus, OH',\n",
              " 'Both  White  Charlotte, NC',\n",
              " 'Male  All  San Diego County, CA',\n",
              " 'Female  All  Seattle, WA',\n",
              " 'Both  Black  Philadelphia, PA',\n",
              " 'Both  Hispanic  Houston, TX',\n",
              " 'Both  White  Baltimore, MD',\n",
              " 'Male  All  San Diego County, CA',\n",
              " 'Both  All  Baltimore, MD',\n",
              " 'Male  All  Detroit, MI',\n",
              " 'Male  All  Houston, TX',\n",
              " 'Female  All  U.S. Total, U.S. Total',\n",
              " 'Both  White  Houston, TX',\n",
              " 'Male  All  Phoenix, AZ',\n",
              " 'Female  All  U.S. Total, U.S. Total',\n",
              " 'Both  Hispanic  New York City, NY',\n",
              " 'Both  All  San Antonio, TX',\n",
              " 'Male  All  Columbus, OH',\n",
              " 'Female  All  U.S. Total, U.S. Total',\n",
              " 'Both  Hispanic  San Antonio, TX',\n",
              " 'Both  Asian/PI  Oakland (Alameda County), CA',\n",
              " 'Male  All  Philadelphia, PA',\n",
              " 'Both  All  San Antonio, TX',\n",
              " 'Both  White  Seattle, WA',\n",
              " 'Both  Hispanic  Seattle, WA',\n",
              " 'Both  White  Seattle, WA',\n",
              " 'Both  White  New York City, NY',\n",
              " 'Male  All  Philadelphia, PA',\n",
              " 'Female  All  Seattle, WA',\n",
              " 'Female  All  Baltimore, MD',\n",
              " 'Male  All  Columbus, OH',\n",
              " 'Male  All  Houston, TX',\n",
              " 'Both  Black  Seattle, WA',\n",
              " 'Both  Hispanic  Boston, MA',\n",
              " 'Male  All  New York City, NY',\n",
              " 'Both  All  Kansas City, MO',\n",
              " 'Both  All  Washington, DC',\n",
              " 'Male  All  Columbus, OH',\n",
              " 'Both  White  Philadelphia, PA',\n",
              " 'Both  White  Columbus, OH',\n",
              " 'Both  Hispanic  Phoenix, AZ',\n",
              " 'Both  Black  U.S. Total, U.S. Total',\n",
              " 'Both  All  Long Beach, CA',\n",
              " 'Female  All  Oakland (Alameda County), CA',\n",
              " 'Both  White  Seattle, WA',\n",
              " 'Both  Hispanic  Philadelphia, PA',\n",
              " 'Both  All  Washington, DC',\n",
              " 'Both  White  Charlotte, NC',\n",
              " 'Both  All  Columbus, OH',\n",
              " 'Female  All  Oakland (Alameda County), CA',\n",
              " 'Both  White  Detroit, MI',\n",
              " 'Male  All  Charlotte, NC',\n",
              " 'Male  All  New York City, NY',\n",
              " 'Both  Black  U.S. Total, U.S. Total',\n",
              " 'Male  All  Phoenix, AZ',\n",
              " 'Both  All  Denver, CO',\n",
              " 'Male  All  Indianapolis (Marion County), IN',\n",
              " 'Male  All  Las Vegas (Clark County), NV',\n",
              " 'Both  Hispanic  Seattle, WA',\n",
              " 'Male  All  New York City, NY',\n",
              " 'Both  Hispanic  Las Vegas (Clark County), NV',\n",
              " 'Male  All  Columbus, OH',\n",
              " 'Both  All  Oakland (Alameda County), CA',\n",
              " 'Both  White  New York City, NY',\n",
              " 'Both  All  Seattle, WA',\n",
              " 'Both  Multiracial  Seattle, WA',\n",
              " 'Male  All  Seattle, WA',\n",
              " 'Both  Other  New York City, NY',\n",
              " 'Male  All  Portland (Multnomah County), OR',\n",
              " 'Both  All  Seattle, WA',\n",
              " 'Both  All  Philadelphia, PA',\n",
              " 'Male  All  Los Angeles, CA',\n",
              " 'Both  All  Boston, MA',\n",
              " 'Both  Black  San Antonio, TX',\n",
              " 'Both  Black  U.S. Total, U.S. Total',\n",
              " 'Both  Black  U.S. Total, U.S. Total',\n",
              " 'Male  All  Portland (Multnomah County), OR',\n",
              " 'Both  Other  New York City, NY',\n",
              " 'Both  White  New York City, NY',\n",
              " 'Both  Hispanic  Denver, CO',\n",
              " 'Both  White  New York City, NY',\n",
              " 'Both  All  U.S. Total, U.S. Total',\n",
              " 'Both  White  Seattle, WA',\n",
              " 'Both  All  Philadelphia, PA',\n",
              " 'Both  All  Washington, DC',\n",
              " 'Male  All  Seattle, WA',\n",
              " 'Male  All  Baltimore, MD',\n",
              " 'Male  All  Seattle, WA',\n",
              " 'Both  White  Charlotte, NC',\n",
              " 'Both  Hispanic  Washington, DC',\n",
              " 'Both  White  U.S. Total, U.S. Total',\n",
              " 'Both  White  New York City, NY',\n",
              " 'Both  All  Oakland (Alameda County), CA',\n",
              " 'Both  Hispanic  Denver, CO',\n",
              " 'Both  All  Boston, MA',\n",
              " 'Both  All  Kansas City, MO',\n",
              " 'Both  All  Boston, MA',\n",
              " 'Male  All  San Antonio, TX',\n",
              " 'Both  Hispanic  Denver, CO',\n",
              " 'Male  All  New York City, NY',\n",
              " 'Both  Hispanic  San Antonio, TX',\n",
              " 'Male  All  Seattle, WA',\n",
              " 'Male  All  Houston, TX',\n",
              " 'Both  All  Denver, CO',\n",
              " 'Both  All  Seattle, WA',\n",
              " 'Both  All  Denver, CO',\n",
              " 'Both  Black  San Antonio, TX',\n",
              " 'Both  All  Denver, CO',\n",
              " 'Both  All  U.S. Total, U.S. Total',\n",
              " 'Both  White  Seattle, WA',\n",
              " 'Both  All  Denver, CO',\n",
              " 'Both  Hispanic  Oakland (Alameda County), CA',\n",
              " 'Both  All  U.S. Total, U.S. Total',\n",
              " 'Both  White  Philadelphia, PA',\n",
              " 'Male  All  Philadelphia, PA',\n",
              " 'Both  White  Baltimore, MD',\n",
              " 'Male  All  Oakland (Alameda County), CA',\n",
              " 'Both  All  U.S. Total, U.S. Total',\n",
              " 'Male  All  Washington, DC',\n",
              " 'Both  Hispanic  San Antonio, TX',\n",
              " 'Both  White  Columbus, OH',\n",
              " 'Male  All  Oakland (Alameda County), CA',\n",
              " 'Both  All  Denver, CO',\n",
              " 'Male  All  Detroit, MI',\n",
              " 'Both  Hispanic  U.S. Total, U.S. Total',\n",
              " 'Both  Black  Denver, CO',\n",
              " 'Both  Hispanic  U.S. Total, U.S. Total',\n",
              " 'Male  All  Denver, CO',\n",
              " 'Both  White  U.S. Total, U.S. Total',\n",
              " 'Male  All  Miami (Miami-Dade County), FL',\n",
              " 'Male  All  Philadelphia, PA',\n",
              " 'Both  White  Oakland (Alameda County), CA',\n",
              " 'Both  White  U.S. Total, U.S. Total',\n",
              " 'Male  All  Columbus, OH',\n",
              " 'Both  Hispanic  San Antonio, TX',\n",
              " 'Both  White  U.S. Total, U.S. Total',\n",
              " 'Male  All  Washington, DC',\n",
              " 'Both  White  Columbus, OH',\n",
              " 'Both  American Indian/Alaska Native  U.S. Total, U.S. Total',\n",
              " 'Both  Hispanic  U.S. Total, U.S. Total',\n",
              " 'Both  White  Denver, CO',\n",
              " 'Both  Black  Oakland (Alameda County), CA',\n",
              " 'Both  Hispanic  U.S. Total, U.S. Total',\n",
              " 'Both  All  Oakland (Alameda County), CA',\n",
              " 'Both  Other  U.S. Total, U.S. Total',\n",
              " 'Both  American Indian/Alaska Native  U.S. Total, U.S. Total',\n",
              " 'Male  All  San Antonio, TX',\n",
              " 'Male  All  Boston, MA',\n",
              " 'Both  All  Chicago, Il',\n",
              " 'Male  All  Philadelphia, PA',\n",
              " 'Both  White  Denver, CO',\n",
              " 'Both  All  Oakland (Alameda County), CA',\n",
              " 'Both  Other  New York City, NY',\n",
              " 'Both  White  Denver, CO',\n",
              " 'Both  Hispanic  Seattle, WA',\n",
              " 'Male  All  Seattle, WA',\n",
              " 'Both  White  Seattle, WA',\n",
              " 'Both  American Indian/Alaska Native  U.S. Total, U.S. Total',\n",
              " 'Male  All  Washington, DC',\n",
              " 'Both  Hispanic  Oakland (Alameda County), CA',\n",
              " 'Male  All  Seattle, WA',\n",
              " 'Both  White  Boston, MA',\n",
              " 'Male  All  Philadelphia, PA',\n",
              " 'Male  All  San Antonio, TX',\n",
              " 'Male  All  Boston, MA',\n",
              " 'Both  White  Baltimore, MD',\n",
              " 'Both  White  Washington, DC',\n",
              " 'Male  All  Boston, MA',\n",
              " 'Male  All  U.S. Total, U.S. Total',\n",
              " 'Male  All  U.S. Total, U.S. Total',\n",
              " 'Male  All  U.S. Total, U.S. Total',\n",
              " 'Both  White  Denver, CO',\n",
              " 'Both  White  Denver, CO',\n",
              " 'Both  White  Washington, DC',\n",
              " 'Both  White  Denver, CO',\n",
              " 'Male  All  U.S. Total, U.S. Total',\n",
              " 'Both  White  Boston, MA',\n",
              " 'Male  All  Denver, CO',\n",
              " 'Both  Hispanic  Chicago, Il',\n",
              " 'Male  All  Denver, CO',\n",
              " 'Both  American Indian/Alaska Native  U.S. Total, U.S. Total',\n",
              " 'Both  Hispanic  Washington, DC',\n",
              " 'Both  Other  San Antonio, TX',\n",
              " 'Female  All  Oakland (Alameda County), CA',\n",
              " 'Both  Black  Oakland (Alameda County), CA',\n",
              " 'Male  All  Denver, CO',\n",
              " 'Both  White  Washington, DC',\n",
              " 'Both  White  Oakland (Alameda County), CA',\n",
              " 'Both  Hispanic  Philadelphia, PA',\n",
              " 'Male  All  Denver, CO',\n",
              " 'Both  White  Oakland (Alameda County), CA',\n",
              " 'Male  All  Denver, CO',\n",
              " 'Both  All  Oakland (Alameda County), CA',\n",
              " 'Both  White  Boston, MA',\n",
              " 'Male  All  Chicago, Il',\n",
              " 'Male  All  Oakland (Alameda County), CA',\n",
              " 'Both  White  Chicago, Il',\n",
              " 'Male  All  Oakland (Alameda County), CA',\n",
              " 'Both  Hispanic  Oakland (Alameda County), CA',\n",
              " 'Male  All  Oakland (Alameda County), CA',\n",
              " 'Both  Other  San Antonio, TX',\n",
              " 'Both  White  Oakland (Alameda County), CA',\n",
              " 'Both  White  Oakland (Alameda County), CA',\n",
              " 'Both  Hispanic  Oakland (Alameda County), CA',\n",
              " 'Both  White  San Antonio, TX',\n",
              " 'Both  White  San Antonio, TX']"
            ]
          },
          "metadata": {
            "tags": []
          },
          "execution_count": 24
        }
      ]
    },
    {
      "cell_type": "code",
      "metadata": {
        "id": "EoD5vuTH5B6p",
        "colab_type": "code",
        "colab": {
          "base_uri": "https://localhost:8080/",
          "height": 193
        },
        "outputId": "b23cfbba-4f31-448a-9a04-192b9a09672e"
      },
      "source": [
        "cv = CountVectorizer()\n",
        "cv_score = cv.fit_transform(data)\n",
        "print(cv_score.shape)\n",
        "print(cv.vocabulary_)\n",
        "print(cv.get_feature_names())\n",
        "print(cv)"
      ],
      "execution_count": 25,
      "outputs": [
        {
          "output_type": "stream",
          "text": [
            "(535, 76)\n",
            "{'both': 12, 'black': 10, 'charlotte': 14, 'nc': 52, 'miami': 45, 'dade': 21, 'county': 20, 'fl': 27, 'female': 26, 'all': 2, 'other': 59, 'houston': 30, 'tx': 69, 'asian': 6, 'pi': 63, 'new': 53, 'york': 75, 'city': 16, 'ny': 55, 'minneapolis': 46, 'mn': 47, 'detroit': 24, 'mi': 44, 'las': 37, 'vegas': 70, 'clark': 17, 'nv': 54, 'seattle': 66, 'wa': 71, 'san': 65, 'antonio': 5, 'boston': 11, 'ma': 40, 'los': 39, 'angeles': 4, 'ca': 13, 'white': 73, 'columbus': 19, 'oh': 57, 'baltimore': 8, 'md': 43, 'phoenix': 62, 'az': 7, 'denver': 23, 'co': 18, 'indianapolis': 34, 'marion': 42, 'in': 32, 'hispanic': 29, 'philadelphia': 61, 'pa': 60, 'diego': 25, 'male': 41, 'fort': 28, 'worth': 74, 'tarrant': 67, 'american': 3, 'indian': 33, 'alaska': 1, 'native': 51, 'total': 68, 'washington': 72, 'dc': 22, 'jose': 35, 'kansas': 36, 'mo': 48, 'portland': 64, 'multnomah': 50, 'or': 58, 'oakland': 56, 'alameda': 0, 'chicago': 15, 'il': 31, 'long': 38, 'beach': 9, 'multiracial': 49}\n",
            "['alameda', 'alaska', 'all', 'american', 'angeles', 'antonio', 'asian', 'az', 'baltimore', 'beach', 'black', 'boston', 'both', 'ca', 'charlotte', 'chicago', 'city', 'clark', 'co', 'columbus', 'county', 'dade', 'dc', 'denver', 'detroit', 'diego', 'female', 'fl', 'fort', 'hispanic', 'houston', 'il', 'in', 'indian', 'indianapolis', 'jose', 'kansas', 'las', 'long', 'los', 'ma', 'male', 'marion', 'md', 'mi', 'miami', 'minneapolis', 'mn', 'mo', 'multiracial', 'multnomah', 'native', 'nc', 'new', 'nv', 'ny', 'oakland', 'oh', 'or', 'other', 'pa', 'philadelphia', 'phoenix', 'pi', 'portland', 'san', 'seattle', 'tarrant', 'total', 'tx', 'vegas', 'wa', 'washington', 'white', 'worth', 'york']\n",
            "CountVectorizer(analyzer='word', binary=False, decode_error='strict',\n",
            "                dtype=<class 'numpy.int64'>, encoding='utf-8', input='content',\n",
            "                lowercase=True, max_df=1.0, max_features=None, min_df=1,\n",
            "                ngram_range=(1, 1), preprocessor=None, stop_words=None,\n",
            "                strip_accents=None, token_pattern='(?u)\\\\b\\\\w\\\\w+\\\\b',\n",
            "                tokenizer=None, vocabulary=None)\n"
          ],
          "name": "stdout"
        }
      ]
    },
    {
      "cell_type": "code",
      "metadata": {
        "id": "JRpLsXU1hrYF",
        "colab_type": "code",
        "colab": {}
      },
      "source": [
        "x_train, x_test, y_train, y_test = train_test_split(cv_score, df.Value,\n",
        "                                                    test_size = 0.3, random_state = 88)"
      ],
      "execution_count": 26,
      "outputs": []
    },
    {
      "cell_type": "code",
      "metadata": {
        "id": "_YVmVbhhXfa9",
        "colab_type": "code",
        "colab": {
          "base_uri": "https://localhost:8080/",
          "height": 35
        },
        "outputId": "11d1f5f6-7bfa-4b6e-cd77-5d6a18ebad21"
      },
      "source": [
        "x_train.shape"
      ],
      "execution_count": 27,
      "outputs": [
        {
          "output_type": "execute_result",
          "data": {
            "text/plain": [
              "(374, 76)"
            ]
          },
          "metadata": {
            "tags": []
          },
          "execution_count": 27
        }
      ]
    },
    {
      "cell_type": "code",
      "metadata": {
        "id": "ldPsoMPXXnoQ",
        "colab_type": "code",
        "colab": {
          "base_uri": "https://localhost:8080/",
          "height": 35
        },
        "outputId": "5fd6c5c3-7dad-4b33-9058-449bbfb52aae"
      },
      "source": [
        "x_test.shape"
      ],
      "execution_count": 28,
      "outputs": [
        {
          "output_type": "execute_result",
          "data": {
            "text/plain": [
              "(161, 76)"
            ]
          },
          "metadata": {
            "tags": []
          },
          "execution_count": 28
        }
      ]
    },
    {
      "cell_type": "code",
      "metadata": {
        "id": "yR-Z975nXp5e",
        "colab_type": "code",
        "colab": {}
      },
      "source": [
        "classifier = MultinomialNB()"
      ],
      "execution_count": 29,
      "outputs": []
    },
    {
      "cell_type": "code",
      "metadata": {
        "id": "3rL8hrkrXr-Q",
        "colab_type": "code",
        "colab": {
          "base_uri": "https://localhost:8080/",
          "height": 35
        },
        "outputId": "1e084e3f-f4ef-4ff5-d368-f5db305e7499"
      },
      "source": [
        "classifier.fit(x_train, y_train)"
      ],
      "execution_count": 30,
      "outputs": [
        {
          "output_type": "execute_result",
          "data": {
            "text/plain": [
              "MultinomialNB(alpha=1.0, class_prior=None, fit_prior=True)"
            ]
          },
          "metadata": {
            "tags": []
          },
          "execution_count": 30
        }
      ]
    },
    {
      "cell_type": "code",
      "metadata": {
        "id": "ooUzN8xOXt2F",
        "colab_type": "code",
        "colab": {}
      },
      "source": [
        "number_correct = (y_test == classifier.predict(x_test)).sum()"
      ],
      "execution_count": 31,
      "outputs": []
    },
    {
      "cell_type": "code",
      "metadata": {
        "id": "UC0W7V5EuU4n",
        "colab_type": "code",
        "colab": {
          "base_uri": "https://localhost:8080/",
          "height": 35
        },
        "outputId": "9cc2b8e9-16d7-41a5-b7f3-3b7aaf3baf46"
      },
      "source": [
        "number_correct"
      ],
      "execution_count": 32,
      "outputs": [
        {
          "output_type": "execute_result",
          "data": {
            "text/plain": [
              "46"
            ]
          },
          "metadata": {
            "tags": []
          },
          "execution_count": 32
        }
      ]
    },
    {
      "cell_type": "code",
      "metadata": {
        "id": "Y7rIWtiMuXHj",
        "colab_type": "code",
        "colab": {}
      },
      "source": [
        "number_incorrect = y_test.size - number_correct"
      ],
      "execution_count": 33,
      "outputs": []
    },
    {
      "cell_type": "code",
      "metadata": {
        "id": "7xIlWrsmubSy",
        "colab_type": "code",
        "colab": {
          "base_uri": "https://localhost:8080/",
          "height": 35
        },
        "outputId": "65f07431-69d0-44b6-d201-968b8177caa1"
      },
      "source": [
        "number_incorrect"
      ],
      "execution_count": 34,
      "outputs": [
        {
          "output_type": "execute_result",
          "data": {
            "text/plain": [
              "115"
            ]
          },
          "metadata": {
            "tags": []
          },
          "execution_count": 34
        }
      ]
    },
    {
      "cell_type": "code",
      "metadata": {
        "id": "cjG3jxtxuc--",
        "colab_type": "code",
        "colab": {
          "base_uri": "https://localhost:8080/",
          "height": 35
        },
        "outputId": "1bb34179-9661-46a2-b474-b5f7beae4755"
      },
      "source": [
        "classifier.score(x_test, y_test)"
      ],
      "execution_count": 35,
      "outputs": [
        {
          "output_type": "execute_result",
          "data": {
            "text/plain": [
              "0.2857142857142857"
            ]
          },
          "metadata": {
            "tags": []
          },
          "execution_count": 35
        }
      ]
    },
    {
      "cell_type": "code",
      "metadata": {
        "id": "z2WwpWywufbI",
        "colab_type": "code",
        "colab": {
          "base_uri": "https://localhost:8080/",
          "height": 35
        },
        "outputId": "4131c21e-84ec-4a08-e0ec-3248c985ca51"
      },
      "source": [
        "print(classifier.predict(cv.transform(['white'])))"
      ],
      "execution_count": 41,
      "outputs": [
        {
          "output_type": "stream",
          "text": [
            "[20]\n"
          ],
          "name": "stdout"
        }
      ]
    },
    {
      "cell_type": "code",
      "metadata": {
        "id": "vaAhrAIsujFU",
        "colab_type": "code",
        "colab": {}
      },
      "source": [
        ""
      ],
      "execution_count": null,
      "outputs": []
    }
  ]
}